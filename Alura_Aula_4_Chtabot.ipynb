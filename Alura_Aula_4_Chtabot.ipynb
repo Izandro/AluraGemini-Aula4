{
  "nbformat": 4,
  "nbformat_minor": 0,
  "metadata": {
    "colab": {
      "provenance": [],
      "authorship_tag": "ABX9TyPAan3ZgKjsoyRf3igrFn/0",
      "include_colab_link": true
    },
    "kernelspec": {
      "name": "python3",
      "display_name": "Python 3"
    },
    "language_info": {
      "name": "python"
    }
  },
  "cells": [
    {
      "cell_type": "markdown",
      "metadata": {
        "id": "view-in-github",
        "colab_type": "text"
      },
      "source": [
        "<a href=\"https://colab.research.google.com/github/Izandro/AluraGemini-Aula4/blob/main/Alura_Aula_4_Chtabot.ipynb\" target=\"_parent\"><img src=\"https://colab.research.google.com/assets/colab-badge.svg\" alt=\"Open In Colab\"/></a>"
      ]
    },
    {
      "cell_type": "code",
      "execution_count": null,
      "metadata": {
        "id": "-mjUqiFviXY7"
      },
      "outputs": [],
      "source": [
        "!pip install -q -U google-generativeai"
      ]
    },
    {
      "cell_type": "code",
      "source": [
        "# Import the Python SDK\n",
        "import google.generativeai as genai\n",
        "# Used to securely store your API key\n",
        "from google.colab import userdata\n",
        "\n",
        "api_key=userdata.get(\"SECRET_KEY\")\n",
        "GOOGLE_API_KEY=api_key\n",
        "genai.configure(api_key=GOOGLE_API_KEY)"
      ],
      "metadata": {
        "id": "Xo6ue2l7lW9T"
      },
      "execution_count": null,
      "outputs": []
    },
    {
      "cell_type": "markdown",
      "source": [
        "Listar os modelos disponíveis"
      ],
      "metadata": {
        "id": "iA67_56Glgps"
      }
    },
    {
      "cell_type": "code",
      "source": [
        "for m in genai.list_models():\n",
        "  if 'generateContent' in m.supported_generation_methods:\n",
        "    print(m.name)"
      ],
      "metadata": {
        "colab": {
          "base_uri": "https://localhost:8080/",
          "height": 138
        },
        "id": "YJ9EoNTEldO5",
        "outputId": "0e00ba69-81c8-454c-ede9-c0d5f35b1ae3"
      },
      "execution_count": null,
      "outputs": [
        {
          "output_type": "stream",
          "name": "stdout",
          "text": [
            "models/gemini-1.0-pro\n",
            "models/gemini-1.0-pro-001\n",
            "models/gemini-1.0-pro-latest\n",
            "models/gemini-1.0-pro-vision-latest\n",
            "models/gemini-1.5-pro-latest\n",
            "models/gemini-pro\n",
            "models/gemini-pro-vision\n"
          ]
        }
      ]
    },
    {
      "cell_type": "markdown",
      "source": [
        "Temperature: Quanto maior, mais criativa a resposta"
      ],
      "metadata": {
        "id": "ct8LgXjznXI5"
      }
    },
    {
      "cell_type": "code",
      "source": [
        "generation_config = {\n",
        "    \"candidate_count\": 1,\n",
        "    \"temperature\": 0.5,\n",
        "    \"top_k\": 1,\n",
        "    \"top_p\": 1\n",
        "}"
      ],
      "metadata": {
        "id": "thgzD0FXm6g-"
      },
      "execution_count": null,
      "outputs": []
    },
    {
      "cell_type": "markdown",
      "source": [],
      "metadata": {
        "id": "wGdnkC3coiTk"
      }
    },
    {
      "cell_type": "code",
      "source": [
        "safety_settings = {\n",
        "    \"Harassment\": \"BLOCK_NONE\",\n",
        "    \"Hate\": \"BLOCK_NONE\",\n",
        "    \"Sexual\": \"BLOCK_NONE\",\n",
        "    \"Dangerous\": \"BLOCK_NONE\"\n",
        "}"
      ],
      "metadata": {
        "id": "NrG2rUqCngxA"
      },
      "execution_count": null,
      "outputs": []
    },
    {
      "cell_type": "markdown",
      "source": [
        "Inicializando o modelo"
      ],
      "metadata": {
        "id": "CHSOXenmonvV"
      }
    },
    {
      "cell_type": "code",
      "source": [
        "model = genai.GenerativeModel(model_name = \"gemini-1.0-pro\",\n",
        "                              generation_config = generation_config,\n",
        "                              safety_settings=safety_settings)"
      ],
      "metadata": {
        "id": "x4xXsynEoqj5"
      },
      "execution_count": null,
      "outputs": []
    },
    {
      "cell_type": "code",
      "source": [
        "response = model.generate_content(\"Vamos aprender conteúdo sonre IA. Me dê sugestões\")\n",
        "print(response.text)"
      ],
      "metadata": {
        "colab": {
          "base_uri": "https://localhost:8080/",
          "height": 662
        },
        "id": "fHgyeUKkpyLb",
        "outputId": "6bcc2c28-4245-4352-a458-c4944a13abe7"
      },
      "execution_count": null,
      "outputs": [
        {
          "output_type": "stream",
          "name": "stdout",
          "text": [
            "**Conceitos Básicos**\n",
            "\n",
            "* Definição de Inteligência Artificial (IA)\n",
            "* Tipos de IA (IA Fraca, IA Forte, IA Geral)\n",
            "* Aprendizado de Máquina (ML) vs. Aprendizado Profundo (DL)\n",
            "* Redes Neurais e Processamento de Linguagem Natural (PNL)\n",
            "\n",
            "**Aplicações da IA**\n",
            "\n",
            "* Automação e eficiência de processos\n",
            "* Análise preditiva e tomada de decisão\n",
            "* Reconhecimento de padrões e detecção de anomalias\n",
            "* Atendimento ao cliente e chatbots\n",
            "* Veículos autônomos e robótica\n",
            "\n",
            "**Ética e Implicações Sociais**\n",
            "\n",
            "* Viés algorítmico e discriminação\n",
            "* Perda de empregos e desigualdade econômica\n",
            "* Privacidade e vigilância\n",
            "* Responsabilidade e regulamentação\n",
            "\n",
            "**Tendências e Avanços**\n",
            "\n",
            "* IA Generativa (GPT-3, DALL-E 2)\n",
            "* IA Quântica\n",
            "* IA Explicável e Transparente\n",
            "* Fusão de IA e outras tecnologias (IoT, Blockchain)\n",
            "\n",
            "**Recursos de Aprendizagem**\n",
            "\n",
            "* **Cursos online:** Coursera, edX, Udemy\n",
            "* **Livros:** \"Inteligência Artificial: Uma Abordagem Moderna\" (Stuart Russell e Peter Norvig), \"Aprendizado de Máquina\" (Tom Mitchell)\n",
            "* **Revistas:** Nature Machine Intelligence, IEEE Transactions on Neural Networks and Learning Systems\n",
            "* **Conferências:** NeurIPS, CVPR, ICML\n",
            "* **Comunidades online:** Reddit (r/MachineLearning), Stack Overflow (tag \"machine-learning\")\n"
          ]
        }
      ]
    },
    {
      "cell_type": "code",
      "source": [
        "chat = model.start_chat(history=[])"
      ],
      "metadata": {
        "id": "GX5rVfJeqHse"
      },
      "execution_count": null,
      "outputs": []
    },
    {
      "cell_type": "code",
      "source": [
        "prompt = input(\"olá, como posso te ajudar?\")\n",
        "\n",
        "while prompt != \"fim\":\n",
        "  response = chat.send_message(prompt)\n",
        "  print(\"Resposta: \", response.text, \"\\n\")\n",
        "  prompt = input(\"Te ajudo em mais alguma coisa?\")\n"
      ],
      "metadata": {
        "colab": {
          "base_uri": "https://localhost:8080/",
          "height": 86
        },
        "id": "exLtfePFqgtY",
        "outputId": "8cae5895-c6e2-426c-fa2d-f129bb9e424e"
      },
      "execution_count": null,
      "outputs": [
        {
          "name": "stdout",
          "output_type": "stream",
          "text": [
            "olá, como posso te ajudar?Qual a população dessa cidade?\n",
            "Resposta:  Qual cidade? Por favor, forneça o nome da cidade para que eu possa fornecer a população. \n",
            "\n",
            "Te ajudo em mais alguma coisa?fim\n"
          ]
        }
      ]
    },
    {
      "cell_type": "code",
      "source": [
        "chat.history"
      ],
      "metadata": {
        "colab": {
          "base_uri": "https://localhost:8080/"
        },
        "id": "RihpG8Oqsl7a",
        "outputId": "5787c300-c1c1-490a-f47f-1d6a04cd03d8"
      },
      "execution_count": null,
      "outputs": [
        {
          "output_type": "execute_result",
          "data": {
            "text/plain": [
              "[parts {\n",
              "   text: \"Qual a capit\\303\\243o do Jap\\303\\243o?\"\n",
              " }\n",
              " role: \"user\",\n",
              " parts {\n",
              "   text: \"Maya Yoshida\"\n",
              " }\n",
              " role: \"model\",\n",
              " parts {\n",
              "   text: \"Qual a capital do Jap\\303\\243o?\"\n",
              " }\n",
              " role: \"user\",\n",
              " parts {\n",
              "   text: \"T\\303\\263quio\"\n",
              " }\n",
              " role: \"model\",\n",
              " parts {\n",
              "   text: \"Qual \\303\\251 a comida t\\303\\255pica desse pa\\303\\255s?\"\n",
              " }\n",
              " role: \"user\",\n",
              " parts {\n",
              "   text: \"Sushi\"\n",
              " }\n",
              " role: \"model\",\n",
              " parts {\n",
              "   text: \"Me fale mais sobre o Jap\\303\\243o\"\n",
              " }\n",
              " role: \"user\",\n",
              " parts {\n",
              "   text: \"**Geografia:**\\n\\n* Localizado no extremo leste da \\303\\201sia, no Oceano Pac\\303\\255fico.\\n* \\303\\211 um arquip\\303\\251lago composto por quatro ilhas principais: Hokkaido, Honshu, Shikoku e Kyushu.\\n* Tem uma \\303\\241rea total de 377.975 km\\302\\262.\\n* \\303\\211 um pa\\303\\255s montanhoso, com o Monte Fuji sendo o pico mais alto (3.776 m).\\n\\n**Popula\\303\\247\\303\\243o:**\\n\\n* Popula\\303\\247\\303\\243o de aproximadamente 125,5 milh\\303\\265es (2023).\\n* \\303\\211 uma sociedade altamente urbanizada, com T\\303\\263quio sendo a maior metr\\303\\263pole.\\n* A expectativa de vida \\303\\251 de 84,3 anos, uma das mais altas do mundo.\\n\\n**Cultura:**\\n\\n* Rica hist\\303\\263ria e cultura, influenciada por tradi\\303\\247\\303\\265es chinesas e coreanas.\\n* Conhecido por sua cerim\\303\\264nia do ch\\303\\241, arranjos florais (ikebana) e artes marciais (jud\\303\\264, carat\\303\\252).\\n* Tem uma forte \\303\\251tica de trabalho e um respeito profundo pela natureza.\\n\\n**Economia:**\\n\\n* Terceira maior economia do mundo em termos de PIB nominal.\\n* \\303\\211 um importante centro de manufatura, tecnologia e servi\\303\\247os financeiros.\\n* Exporta produtos como ve\\303\\255culos, eletr\\303\\264nicos e produtos qu\\303\\255micos.\\n\\n**Pol\\303\\255tica:**\\n\\n* Monarquia constitucional com um imperador simb\\303\\263lico.\\n* O primeiro-ministro \\303\\251 o chefe de governo.\\n* Tem um sistema parlamentar com uma Dieta bicameral.\\n\\n**Outros fatos interessantes:**\\n\\n* \\303\\211 o lar do Monte Fuji, um vulc\\303\\243o ic\\303\\264nico e s\\303\\255mbolo nacional.\\n* Tem uma das taxas de criminalidade mais baixas do mundo.\\n* \\303\\211 conhecido por sua culin\\303\\241ria refinada, incluindo sushi, sashimi e tempur\\303\\241.\\n* \\303\\211 um importante destino tur\\303\\255stico, atraindo visitantes com seus templos antigos, castelos hist\\303\\263ricos e paisagens naturais deslumbrantes.\"\n",
              " }\n",
              " role: \"model\",\n",
              " parts {\n",
              "   text: \"Qual a popula\\303\\247\\303\\243o dessa cidade?\"\n",
              " }\n",
              " role: \"user\",\n",
              " parts {\n",
              "   text: \"Qual cidade? Por favor, forne\\303\\247a o nome da cidade para que eu possa fornecer a popula\\303\\247\\303\\243o.\"\n",
              " }\n",
              " role: \"model\"]"
            ]
          },
          "metadata": {},
          "execution_count": 19
        }
      ]
    },
    {
      "cell_type": "code",
      "source": [
        "#Melhorando a visualização\n",
        "#Código disponível em https://ai.google.dev/tutorials/python_quickstart#import_packages\n",
        "import textwrap\n",
        "from IPython.display import display\n",
        "from IPython.display import Markdown\n",
        "\n",
        "def to_markdown(text):\n",
        "  text = text.replace('•', '  *')\n",
        "  return Markdown(textwrap.indent(text, '> ', predicate=lambda _: True))\n",
        "\n",
        "#Imprimindo o histórico\n",
        "for message in chat.history:\n",
        "  display(to_markdown(f'**{message.role}**: {message.parts[0].text}'))\n",
        "  print('-------------------------------------------')"
      ],
      "metadata": {
        "id": "zf7GStUstI4E",
        "outputId": "29be1771-2cb7-41c0-8167-16fc7806218c",
        "colab": {
          "base_uri": "https://localhost:8080/",
          "height": 1000
        }
      },
      "execution_count": null,
      "outputs": [
        {
          "output_type": "display_data",
          "data": {
            "text/plain": [
              "<IPython.core.display.Markdown object>"
            ],
            "text/markdown": "> **user**: Qual a capitão do Japão?"
          },
          "metadata": {}
        },
        {
          "output_type": "stream",
          "name": "stdout",
          "text": [
            "-------------------------------------------\n"
          ]
        },
        {
          "output_type": "display_data",
          "data": {
            "text/plain": [
              "<IPython.core.display.Markdown object>"
            ],
            "text/markdown": "> **model**: Maya Yoshida"
          },
          "metadata": {}
        },
        {
          "output_type": "stream",
          "name": "stdout",
          "text": [
            "-------------------------------------------\n"
          ]
        },
        {
          "output_type": "display_data",
          "data": {
            "text/plain": [
              "<IPython.core.display.Markdown object>"
            ],
            "text/markdown": "> **user**: Qual a capital do Japão?"
          },
          "metadata": {}
        },
        {
          "output_type": "stream",
          "name": "stdout",
          "text": [
            "-------------------------------------------\n"
          ]
        },
        {
          "output_type": "display_data",
          "data": {
            "text/plain": [
              "<IPython.core.display.Markdown object>"
            ],
            "text/markdown": "> **model**: Tóquio"
          },
          "metadata": {}
        },
        {
          "output_type": "stream",
          "name": "stdout",
          "text": [
            "-------------------------------------------\n"
          ]
        },
        {
          "output_type": "display_data",
          "data": {
            "text/plain": [
              "<IPython.core.display.Markdown object>"
            ],
            "text/markdown": "> **user**: Qual é a comida típica desse país?"
          },
          "metadata": {}
        },
        {
          "output_type": "stream",
          "name": "stdout",
          "text": [
            "-------------------------------------------\n"
          ]
        },
        {
          "output_type": "display_data",
          "data": {
            "text/plain": [
              "<IPython.core.display.Markdown object>"
            ],
            "text/markdown": "> **model**: Sushi"
          },
          "metadata": {}
        },
        {
          "output_type": "stream",
          "name": "stdout",
          "text": [
            "-------------------------------------------\n"
          ]
        },
        {
          "output_type": "display_data",
          "data": {
            "text/plain": [
              "<IPython.core.display.Markdown object>"
            ],
            "text/markdown": "> **user**: Me fale mais sobre o Japão"
          },
          "metadata": {}
        },
        {
          "output_type": "stream",
          "name": "stdout",
          "text": [
            "-------------------------------------------\n"
          ]
        },
        {
          "output_type": "display_data",
          "data": {
            "text/plain": [
              "<IPython.core.display.Markdown object>"
            ],
            "text/markdown": "> **model**: **Geografia:**\n> \n> * Localizado no extremo leste da Ásia, no Oceano Pacífico.\n> * É um arquipélago composto por quatro ilhas principais: Hokkaido, Honshu, Shikoku e Kyushu.\n> * Tem uma área total de 377.975 km².\n> * É um país montanhoso, com o Monte Fuji sendo o pico mais alto (3.776 m).\n> \n> **População:**\n> \n> * População de aproximadamente 125,5 milhões (2023).\n> * É uma sociedade altamente urbanizada, com Tóquio sendo a maior metrópole.\n> * A expectativa de vida é de 84,3 anos, uma das mais altas do mundo.\n> \n> **Cultura:**\n> \n> * Rica história e cultura, influenciada por tradições chinesas e coreanas.\n> * Conhecido por sua cerimônia do chá, arranjos florais (ikebana) e artes marciais (judô, caratê).\n> * Tem uma forte ética de trabalho e um respeito profundo pela natureza.\n> \n> **Economia:**\n> \n> * Terceira maior economia do mundo em termos de PIB nominal.\n> * É um importante centro de manufatura, tecnologia e serviços financeiros.\n> * Exporta produtos como veículos, eletrônicos e produtos químicos.\n> \n> **Política:**\n> \n> * Monarquia constitucional com um imperador simbólico.\n> * O primeiro-ministro é o chefe de governo.\n> * Tem um sistema parlamentar com uma Dieta bicameral.\n> \n> **Outros fatos interessantes:**\n> \n> * É o lar do Monte Fuji, um vulcão icônico e símbolo nacional.\n> * Tem uma das taxas de criminalidade mais baixas do mundo.\n> * É conhecido por sua culinária refinada, incluindo sushi, sashimi e tempurá.\n> * É um importante destino turístico, atraindo visitantes com seus templos antigos, castelos históricos e paisagens naturais deslumbrantes."
          },
          "metadata": {}
        },
        {
          "output_type": "stream",
          "name": "stdout",
          "text": [
            "-------------------------------------------\n"
          ]
        },
        {
          "output_type": "display_data",
          "data": {
            "text/plain": [
              "<IPython.core.display.Markdown object>"
            ],
            "text/markdown": "> **user**: Qual a população dessa cidade?"
          },
          "metadata": {}
        },
        {
          "output_type": "stream",
          "name": "stdout",
          "text": [
            "-------------------------------------------\n"
          ]
        },
        {
          "output_type": "display_data",
          "data": {
            "text/plain": [
              "<IPython.core.display.Markdown object>"
            ],
            "text/markdown": "> **model**: Qual cidade? Por favor, forneça o nome da cidade para que eu possa fornecer a população."
          },
          "metadata": {}
        },
        {
          "output_type": "stream",
          "name": "stdout",
          "text": [
            "-------------------------------------------\n"
          ]
        }
      ]
    }
  ]
}